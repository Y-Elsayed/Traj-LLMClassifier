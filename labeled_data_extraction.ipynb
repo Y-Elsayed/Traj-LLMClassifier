{
 "cells": [
  {
   "cell_type": "markdown",
   "metadata": {},
   "source": [
    "## Extracting Labeled Data"
   ]
  },
  {
   "cell_type": "code",
   "execution_count": 2,
   "metadata": {},
   "outputs": [
    {
     "name": "stdout",
     "output_type": "stream",
     "text": [
      "data/raw/GeolifeTrajectories/Data\\010\n",
      "data/raw/GeolifeTrajectories/Data\\020\n",
      "data/raw/GeolifeTrajectories/Data\\021\n",
      "data/raw/GeolifeTrajectories/Data\\052\n",
      "data/raw/GeolifeTrajectories/Data\\053\n",
      "data/raw/GeolifeTrajectories/Data\\056\n",
      "data/raw/GeolifeTrajectories/Data\\058\n",
      "data/raw/GeolifeTrajectories/Data\\059\n",
      "data/raw/GeolifeTrajectories/Data\\060\n",
      "data/raw/GeolifeTrajectories/Data\\062\n",
      "data/raw/GeolifeTrajectories/Data\\064\n",
      "data/raw/GeolifeTrajectories/Data\\065\n",
      "data/raw/GeolifeTrajectories/Data\\067\n",
      "data/raw/GeolifeTrajectories/Data\\068\n",
      "data/raw/GeolifeTrajectories/Data\\069\n",
      "data/raw/GeolifeTrajectories/Data\\073\n",
      "data/raw/GeolifeTrajectories/Data\\075\n",
      "data/raw/GeolifeTrajectories/Data\\076\n",
      "data/raw/GeolifeTrajectories/Data\\078\n",
      "data/raw/GeolifeTrajectories/Data\\080\n",
      "data/raw/GeolifeTrajectories/Data\\081\n",
      "data/raw/GeolifeTrajectories/Data\\082\n",
      "data/raw/GeolifeTrajectories/Data\\084\n",
      "data/raw/GeolifeTrajectories/Data\\085\n",
      "data/raw/GeolifeTrajectories/Data\\086\n",
      "data/raw/GeolifeTrajectories/Data\\087\n",
      "data/raw/GeolifeTrajectories/Data\\088\n",
      "data/raw/GeolifeTrajectories/Data\\089\n",
      "data/raw/GeolifeTrajectories/Data\\091\n",
      "data/raw/GeolifeTrajectories/Data\\092\n",
      "data/raw/GeolifeTrajectories/Data\\096\n",
      "data/raw/GeolifeTrajectories/Data\\097\n",
      "data/raw/GeolifeTrajectories/Data\\098\n",
      "data/raw/GeolifeTrajectories/Data\\100\n",
      "data/raw/GeolifeTrajectories/Data\\101\n",
      "data/raw/GeolifeTrajectories/Data\\102\n",
      "data/raw/GeolifeTrajectories/Data\\104\n",
      "data/raw/GeolifeTrajectories/Data\\105\n",
      "data/raw/GeolifeTrajectories/Data\\106\n",
      "data/raw/GeolifeTrajectories/Data\\107\n",
      "data/raw/GeolifeTrajectories/Data\\108\n",
      "data/raw/GeolifeTrajectories/Data\\110\n",
      "data/raw/GeolifeTrajectories/Data\\111\n",
      "data/raw/GeolifeTrajectories/Data\\112\n",
      "data/raw/GeolifeTrajectories/Data\\114\n",
      "data/raw/GeolifeTrajectories/Data\\115\n",
      "data/raw/GeolifeTrajectories/Data\\116\n",
      "data/raw/GeolifeTrajectories/Data\\117\n",
      "data/raw/GeolifeTrajectories/Data\\118\n",
      "data/raw/GeolifeTrajectories/Data\\124\n",
      "data/raw/GeolifeTrajectories/Data\\125\n",
      "data/raw/GeolifeTrajectories/Data\\126\n",
      "data/raw/GeolifeTrajectories/Data\\128\n",
      "data/raw/GeolifeTrajectories/Data\\129\n",
      "data/raw/GeolifeTrajectories/Data\\136\n",
      "data/raw/GeolifeTrajectories/Data\\138\n",
      "data/raw/GeolifeTrajectories/Data\\139\n",
      "data/raw/GeolifeTrajectories/Data\\141\n",
      "data/raw/GeolifeTrajectories/Data\\144\n",
      "data/raw/GeolifeTrajectories/Data\\147\n",
      "data/raw/GeolifeTrajectories/Data\\153\n",
      "data/raw/GeolifeTrajectories/Data\\154\n",
      "data/raw/GeolifeTrajectories/Data\\161\n",
      "data/raw/GeolifeTrajectories/Data\\163\n",
      "data/raw/GeolifeTrajectories/Data\\167\n",
      "data/raw/GeolifeTrajectories/Data\\170\n",
      "data/raw/GeolifeTrajectories/Data\\174\n",
      "data/raw/GeolifeTrajectories/Data\\175\n",
      "data/raw/GeolifeTrajectories/Data\\179\n",
      "69\n"
     ]
    }
   ],
   "source": [
    "import os\n",
    "from dotenv import load_dotenv\n",
    "load_dotenv()\n",
    "root_path = os.getenv(\"RAW_DATA_PATH\")\n",
    "labeled_traj = []\n",
    "counter = 0\n",
    "for folder in os.listdir(root_path): \n",
    "    folder_path = os.path.join(root_path, folder) \n",
    "    if os.path.isdir(folder_path): \n",
    "        labels_path = os.path.join(folder_path, \"labels.txt\") \n",
    "        \n",
    "        if os.path.isfile(labels_path): \n",
    "            counter+=1\n",
    "            print(folder_path)\n",
    "            labeled_traj.append(folder_path)\n",
    "\n",
    "print(counter)\n"
   ]
  },
  {
   "cell_type": "markdown",
   "metadata": {},
   "source": [
    "## Moving Labeled Data to another dir"
   ]
  },
  {
   "cell_type": "code",
   "execution_count": 3,
   "metadata": {},
   "outputs": [],
   "source": [
    "import shutil\n",
    "\n",
    "label_dir = os.getenv(\"LABELED_DATA_PATH\")\n",
    "\n",
    "# Ensuring the directory exists\n",
    "if not os.path.exists(label_dir):\n",
    "    os.makedirs(label_dir)\n",
    "\n",
    "# Copying the labeled trajectories to the new directory\n",
    "for i in range(len(labeled_traj)):\n",
    "    shutil.copytree(labeled_traj[i], os.path.join(label_dir, str(i)))"
   ]
  }
 ],
 "metadata": {
  "kernelspec": {
   "display_name": ".venv",
   "language": "python",
   "name": "python3"
  },
  "language_info": {
   "codemirror_mode": {
    "name": "ipython",
    "version": 3
   },
   "file_extension": ".py",
   "mimetype": "text/x-python",
   "name": "python",
   "nbconvert_exporter": "python",
   "pygments_lexer": "ipython3",
   "version": "3.12.7"
  }
 },
 "nbformat": 4,
 "nbformat_minor": 2
}
